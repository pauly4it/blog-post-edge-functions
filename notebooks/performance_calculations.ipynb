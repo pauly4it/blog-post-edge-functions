{
  "cells": [
    {
      "cell_type": "code",
      "execution_count": 1,
      "metadata": {},
      "outputs": [],
      "source": [
        "import os\n",
        "import pandas as pd\n",
        "from utils import load_csv_data, calc_path_stats"
      ]
    },
    {
      "cell_type": "code",
      "execution_count": 2,
      "metadata": {},
      "outputs": [],
      "source": [
        "current_directory = os.getcwd()"
      ]
    },
    {
      "cell_type": "code",
      "execution_count": 3,
      "metadata": {},
      "outputs": [],
      "source": [
        "cloudflare = load_csv_data(os.path.join(current_directory, \"../data/cloudflare-workers\"))\n",
        "cloudfront = load_csv_data(os.path.join(current_directory, \"../data/cloudfront-functions\"))\n",
        "lambdaEdge = load_csv_data(os.path.join(current_directory, \"../data/lambda@edge\"))"
      ]
    },
    {
      "cell_type": "code",
      "execution_count": 4,
      "metadata": {},
      "outputs": [
        {
          "data": {
            "text/html": [
              "<div>\n",
              "<style scoped>\n",
              "    .dataframe tbody tr th:only-of-type {\n",
              "        vertical-align: middle;\n",
              "    }\n",
              "\n",
              "    .dataframe tbody tr th {\n",
              "        vertical-align: top;\n",
              "    }\n",
              "\n",
              "    .dataframe thead th {\n",
              "        text-align: right;\n",
              "    }\n",
              "</style>\n",
              "<table border=\"1\" class=\"dataframe\">\n",
              "  <thead>\n",
              "    <tr style=\"text-align: right;\">\n",
              "      <th></th>\n",
              "      <th>cloudfront</th>\n",
              "      <th>cloudflare</th>\n",
              "      <th>lambdaEdge</th>\n",
              "    </tr>\n",
              "  </thead>\n",
              "  <tbody>\n",
              "    <tr>\n",
              "      <th>p95</th>\n",
              "      <td>95.77620</td>\n",
              "      <td>116.27350</td>\n",
              "      <td>373.42675</td>\n",
              "    </tr>\n",
              "    <tr>\n",
              "      <th>p99</th>\n",
              "      <td>137.56402</td>\n",
              "      <td>164.59277</td>\n",
              "      <td>454.57480</td>\n",
              "    </tr>\n",
              "    <tr>\n",
              "      <th>max</th>\n",
              "      <td>244.37500</td>\n",
              "      <td>300.41600</td>\n",
              "      <td>697.73600</td>\n",
              "    </tr>\n",
              "  </tbody>\n",
              "</table>\n",
              "</div>"
            ],
            "text/plain": [
              "     cloudfront  cloudflare  lambdaEdge\n",
              "p95    95.77620   116.27350   373.42675\n",
              "p99   137.56402   164.59277   454.57480\n",
              "max   244.37500   300.41600   697.73600"
            ]
          },
          "execution_count": 4,
          "metadata": {},
          "output_type": "execute_result"
        }
      ],
      "source": [
        "stats = {}\n",
        "stats[\"cloudfront\"] = calc_path_stats(cloudfront[\"combined\"][\"Total\"])\n",
        "stats[\"cloudflare\"] = calc_path_stats(cloudflare[\"combined\"][\"Total\"])\n",
        "stats[\"lambdaEdge\"] = calc_path_stats(lambdaEdge[\"combined\"][\"Total\"])\n",
        "\n",
        "labels = [\"p95\", \"p99\", \"max\"]\n",
        "\n",
        "stats_df = pd.DataFrame(stats, index = labels)\n",
        "\n",
        "stats_df"
      ]
    }
  ],
  "metadata": {
    "kernelspec": {
      "display_name": "Python 3",
      "language": "python",
      "name": "python3"
    },
    "language_info": {
      "codemirror_mode": {
        "name": "ipython",
        "version": 3
      },
      "file_extension": ".py",
      "mimetype": "text/x-python",
      "name": "python",
      "nbconvert_exporter": "python",
      "pygments_lexer": "ipython3",
      "version": "3.10.3"
    }
  },
  "nbformat": 4,
  "nbformat_minor": 4
}
